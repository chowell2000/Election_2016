{
  "nbformat": 4,
  "nbformat_minor": 0,
  "metadata": {
    "colab": {
      "name": "2016_youth_vote.ipynb",
      "provenance": [],
      "collapsed_sections": [
        "N7VTwUGQmnqp"
      ],
      "include_colab_link": true
    },
    "kernelspec": {
      "name": "python3",
      "display_name": "Python 3"
    }
  },
  "cells": [
    {
      "cell_type": "markdown",
      "metadata": {
        "id": "view-in-github",
        "colab_type": "text"
      },
      "source": [
        "<a href=\"https://colab.research.google.com/github/chowell2000/Election_2016/blob/master/2016_youth_vote.ipynb\" target=\"_parent\"><img src=\"https://colab.research.google.com/assets/colab-badge.svg\" alt=\"Open In Colab\"/></a>"
      ]
    },
    {
      "cell_type": "markdown",
      "metadata": {
        "id": "Q8zTOSu24a6q",
        "colab_type": "text"
      },
      "source": [
        ""
      ]
    },
    {
      "cell_type": "markdown",
      "metadata": {
        "id": "g2mogNOgZE7q",
        "colab_type": "text"
      },
      "source": [
        "# Importing libraries and data"
      ]
    },
    {
      "cell_type": "code",
      "metadata": {
        "id": "W-0fy040ZIYk",
        "colab_type": "code",
        "outputId": "e743acf3-946b-459f-dae2-d9a6baceae3b",
        "colab": {
          "base_uri": "https://localhost:8080/",
          "height": 275
        }
      },
      "source": [
        "import pandas as pd\n",
        "import numpy as np\n",
        "import matplotlib\n",
        "import matplotlib.pyplot as plt\n",
        "!pip install geopandas\n",
        "import geopandas as gpd\n",
        "import zipfile\n",
        "from google.colab import files"
      ],
      "execution_count": 84,
      "outputs": [
        {
          "output_type": "stream",
          "text": [
            "Requirement already satisfied: geopandas in /usr/local/lib/python3.6/dist-packages (0.6.2)\n",
            "Requirement already satisfied: pandas>=0.23.0 in /usr/local/lib/python3.6/dist-packages (from geopandas) (0.25.3)\n",
            "Requirement already satisfied: shapely in /usr/local/lib/python3.6/dist-packages (from geopandas) (1.6.4.post2)\n",
            "Requirement already satisfied: pyproj in /usr/local/lib/python3.6/dist-packages (from geopandas) (2.4.2.post1)\n",
            "Requirement already satisfied: fiona in /usr/local/lib/python3.6/dist-packages (from geopandas) (1.8.13)\n",
            "Requirement already satisfied: python-dateutil>=2.6.1 in /usr/local/lib/python3.6/dist-packages (from pandas>=0.23.0->geopandas) (2.6.1)\n",
            "Requirement already satisfied: numpy>=1.13.3 in /usr/local/lib/python3.6/dist-packages (from pandas>=0.23.0->geopandas) (1.17.5)\n",
            "Requirement already satisfied: pytz>=2017.2 in /usr/local/lib/python3.6/dist-packages (from pandas>=0.23.0->geopandas) (2018.9)\n",
            "Requirement already satisfied: click<8,>=4.0 in /usr/local/lib/python3.6/dist-packages (from fiona->geopandas) (7.0)\n",
            "Requirement already satisfied: munch in /usr/local/lib/python3.6/dist-packages (from fiona->geopandas) (2.5.0)\n",
            "Requirement already satisfied: click-plugins>=1.0 in /usr/local/lib/python3.6/dist-packages (from fiona->geopandas) (1.1.1)\n",
            "Requirement already satisfied: attrs>=17 in /usr/local/lib/python3.6/dist-packages (from fiona->geopandas) (19.3.0)\n",
            "Requirement already satisfied: six>=1.7 in /usr/local/lib/python3.6/dist-packages (from fiona->geopandas) (1.12.0)\n",
            "Requirement already satisfied: cligj>=0.5 in /usr/local/lib/python3.6/dist-packages (from fiona->geopandas) (0.5.0)\n"
          ],
          "name": "stdout"
        }
      ]
    },
    {
      "cell_type": "code",
      "metadata": {
        "id": "-tFXF0vZjvDb",
        "colab_type": "code",
        "colab": {
          "base_uri": "https://localhost:8080/",
          "height": 54
        },
        "outputId": "8dae71ec-7c70-4b68-d043-bcf4862ab8e1"
      },
      "source": [
        "# Mounting drive to get the shapefile later\n",
        "\n",
        "from google.colab import drive\n",
        "drive.mount('drive')"
      ],
      "execution_count": 85,
      "outputs": [
        {
          "output_type": "stream",
          "text": [
            "Drive already mounted at drive; to attempt to forcibly remount, call drive.mount(\"drive\", force_remount=True).\n"
          ],
          "name": "stdout"
        }
      ]
    },
    {
      "cell_type": "code",
      "metadata": {
        "id": "kpBSG6JSZI_s",
        "colab_type": "code",
        "colab": {}
      },
      "source": [
        "# This is the exit polling data\n",
        "\n",
        "exit_in = pd.read_csv('https://query.data.world/s/riz4gn6ykdhgvq6lkugbxijcjx3a26')"
      ],
      "execution_count": 0,
      "outputs": []
    },
    {
      "cell_type": "code",
      "metadata": {
        "id": "WWYQFUm5ajHN",
        "colab_type": "code",
        "colab": {}
      },
      "source": [
        "# Census voter participation data\n",
        "\n",
        "\n",
        "voters_in = pd.read_csv('https://raw.githubusercontent.com/chowell2000/Election_2016/master/censusvotercsv.csv')"
      ],
      "execution_count": 0,
      "outputs": []
    },
    {
      "cell_type": "code",
      "metadata": {
        "id": "QVJzZzvVknvQ",
        "colab_type": "code",
        "colab": {}
      },
      "source": [
        "# Presidential election results\n",
        "\n",
        "results_in = pd.read_csv('https://raw.githubusercontent.com/chowell2000/Election_2016/master/1976-2016-president.csv')"
      ],
      "execution_count": 0,
      "outputs": []
    },
    {
      "cell_type": "code",
      "metadata": {
        "id": "lIEEevS8l3FJ",
        "colab_type": "code",
        "colab": {}
      },
      "source": [
        "# Electoral college data\n",
        "\n",
        "electoral = pd.read_csv('https://query.data.world/s/we45qmdo3onzzio2qu7yl3una3qzk7')"
      ],
      "execution_count": 0,
      "outputs": []
    },
    {
      "cell_type": "code",
      "metadata": {
        "id": "RcfGXpJPaurx",
        "colab_type": "code",
        "colab": {}
      },
      "source": [
        "# Just the data including age\n",
        "\n",
        "exit_in = exit_in[exit_in['questions'] == 'Age']"
      ],
      "execution_count": 0,
      "outputs": []
    },
    {
      "cell_type": "code",
      "metadata": {
        "id": "ZlErbQFkFMzB",
        "colab_type": "code",
        "colab": {}
      },
      "source": [
        "# Map shape data for the plots\n",
        "\n",
        "fp = 'drive/My Drive/states_21basic/states.shp'\n",
        "\n",
        "mapfile_df = gpd.read_file(fp)"
      ],
      "execution_count": 0,
      "outputs": []
    },
    {
      "cell_type": "markdown",
      "metadata": {
        "id": "N7VTwUGQmnqp",
        "colab_type": "text"
      },
      "source": [
        "# Data Cleaning"
      ]
    },
    {
      "cell_type": "code",
      "metadata": {
        "id": "IWOjhefnZI6r",
        "colab_type": "code",
        "colab": {}
      },
      "source": [
        "#Dropping unnecessary columns\n",
        "\n",
        "exit_in = exit_in.drop(['url', 'questions_id', 'questions'], axis = 1)\n"
      ],
      "execution_count": 0,
      "outputs": []
    },
    {
      "cell_type": "code",
      "metadata": {
        "id": "h7J3Ncp7bOz0",
        "colab_type": "code",
        "colab": {}
      },
      "source": [
        "# All state names to lowercase for consistency between dataframes\n",
        "\n",
        "exit_in.state = exit_in.state.str.lower()"
      ],
      "execution_count": 0,
      "outputs": []
    },
    {
      "cell_type": "code",
      "metadata": {
        "id": "8yGnMIMdbczk",
        "colab_type": "code",
        "colab": {}
      },
      "source": [
        "# Getting 18-24 year old data and using 18-29 where 18-24 is missing\n",
        "\n",
        "exit_young_1 = exit_in[exit_in['options'] == '18-24'].set_index('state')\n",
        "exit_young_2 = exit_in[exit_in['options'] == '18-29'].set_index('state')\n",
        "exit_young = exit_young_1.combine_first(exit_young_2)"
      ],
      "execution_count": 0,
      "outputs": []
    },
    {
      "cell_type": "code",
      "metadata": {
        "id": "4xCRqggGbqS5",
        "colab_type": "code",
        "colab": {}
      },
      "source": [
        "# Dropping Nans\n",
        "\n",
        "exit_young =  exit_young.drop(['washington', 'oregon'])"
      ],
      "execution_count": 0,
      "outputs": []
    },
    {
      "cell_type": "code",
      "metadata": {
        "id": "lppMKXEgcuDE",
        "colab_type": "code",
        "colab": {}
      },
      "source": [
        "# Dropping now unneeded column after we are done with it\n",
        "\n",
        "exit_young =  exit_young.drop(['options'], axis=1)"
      ],
      "execution_count": 0,
      "outputs": []
    },
    {
      "cell_type": "code",
      "metadata": {
        "id": "HnfJ39NzjJgE",
        "colab_type": "code",
        "colab": {}
      },
      "source": [
        "# Dropping unneeded columns and state names to lowercase for consistency between dataframes\n",
        "\n",
        "voters_in = voters_in.drop(columns=list(voters_in)[13:19]+list(voters_in)[2:3]\n",
        "                             +list(voters_in)[4:9]+list(voters_in)[10:12])\n",
        "voters_in.STATE = voters_in.STATE.str.lower()"
      ],
      "execution_count": 0,
      "outputs": []
    },
    {
      "cell_type": "code",
      "metadata": {
        "id": "aZe4mGctjjDV",
        "colab_type": "code",
        "colab": {}
      },
      "source": [
        "# Rename columns something better\n",
        "\n",
        "voters_in.columns = ['state', 'Age', 'Citizens', 'voted',\n",
        "       'Percent']"
      ],
      "execution_count": 0,
      "outputs": []
    },
    {
      "cell_type": "code",
      "metadata": {
        "id": "rMKNvA3Ujy6w",
        "colab_type": "code",
        "colab": {}
      },
      "source": [
        "# State names to lowercase for consistency between dataframes, and removing\n",
        "#   commas from large numbers and changing back to numbers\n",
        "\n",
        "voters_in['Citizens'] = voters_in['Citizens'].str.replace(',', '').astype(int)\n",
        "\n",
        "voters_in['voted'] = voters_in['voted'].str.replace(',', '').astype(int)"
      ],
      "execution_count": 0,
      "outputs": []
    },
    {
      "cell_type": "code",
      "metadata": {
        "id": "o88Ty1SFkCun",
        "colab_type": "code",
        "colab": {}
      },
      "source": [
        "# a function to calculate percentages where they are missing in the census data\n",
        "\n",
        "def fixb(df):\n",
        "  for x in df.index:\n",
        "    if df['Percent'][x] == 'B':\n",
        "      df['Percent'][x] = (df['voted'][x] / df['Citizens'][x])*100\n"
      ],
      "execution_count": 0,
      "outputs": []
    },
    {
      "cell_type": "code",
      "metadata": {
        "id": "EgXbDS3KkJsE",
        "colab_type": "code",
        "outputId": "b4e5330a-9c97-4d76-b25c-0d3c57494299",
        "colab": {
          "base_uri": "https://localhost:8080/",
          "height": 122
        }
      },
      "source": [
        "fixb(voters_in)"
      ],
      "execution_count": 101,
      "outputs": [
        {
          "output_type": "stream",
          "text": [
            "/usr/local/lib/python3.6/dist-packages/ipykernel_launcher.py:5: SettingWithCopyWarning: \n",
            "A value is trying to be set on a copy of a slice from a DataFrame\n",
            "\n",
            "See the caveats in the documentation: http://pandas.pydata.org/pandas-docs/stable/user_guide/indexing.html#returning-a-view-versus-a-copy\n",
            "  \"\"\"\n"
          ],
          "name": "stderr"
        }
      ]
    },
    {
      "cell_type": "code",
      "metadata": {
        "id": "JJMYjXxhkOab",
        "colab_type": "code",
        "colab": {}
      },
      "source": [
        "# Changing column to numbers after replacing bad data\n",
        "\n",
        "voters_in['Percent'] = voters_in['Percent'].astype(float)"
      ],
      "execution_count": 0,
      "outputs": []
    },
    {
      "cell_type": "code",
      "metadata": {
        "id": "oRRGMzFWkWWp",
        "colab_type": "code",
        "colab": {}
      },
      "source": [
        "#Dataframe with just 18-24 votes, states as index\n",
        "\n",
        "voters_young = voters_in[voters_in['Age'] == '18 to 24']\n",
        "voters_young.set_index('state', inplace= True)"
      ],
      "execution_count": 0,
      "outputs": []
    },
    {
      "cell_type": "code",
      "metadata": {
        "id": "3pEfPZzJdgcn",
        "colab_type": "code",
        "colab": {}
      },
      "source": [
        "#Dropping unneeded columns\n",
        "\n",
        "results_in = results_in[results_in['year'] \n",
        "                          == 2016].drop(['version','notes','state_fips','office'\n",
        "                                         ,'state_cen', 'state_ic', ], axis = 1)"
      ],
      "execution_count": 0,
      "outputs": []
    },
    {
      "cell_type": "code",
      "metadata": {
        "id": "_0tNlG2OfDbY",
        "colab_type": "code",
        "colab": {}
      },
      "source": [
        "# Drop write in results\n",
        "\n",
        "results_in = results_in[results_in['writein'] !=\n",
        "                            True].drop('writein', axis = 1)\n"
      ],
      "execution_count": 0,
      "outputs": []
    },
    {
      "cell_type": "code",
      "metadata": {
        "id": "ti2rGpOjlAlL",
        "colab_type": "code",
        "colab": {}
      },
      "source": [
        "# Get only the results for Trump and Clinton, and all state names to lowercase\n",
        "#  for consistency between dataframes\n",
        "\n",
        "results_in = results_in[(results_in['party'] == 'republican') |\n",
        "                            (results_in['party'] == 'democrat')]  \n",
        "results_in.state = results_in.state.str.lower()                          "
      ],
      "execution_count": 0,
      "outputs": []
    },
    {
      "cell_type": "code",
      "metadata": {
        "id": "GLdDTbopztfd",
        "colab_type": "code",
        "colab": {}
      },
      "source": [
        "# The results have two lines for each state - one for each candidate.  This\n",
        "#   This makes new dataframes with state by state results for each candidate\n",
        "\n",
        "results_trump = results_in[results_in['candidate'] == 'Trump, Donald J.']\n",
        "results_trump =  results_trump.drop('year', axis = 1)\n",
        "results_trump =  results_trump.set_index('state')\n",
        "results_clinton = results_in[results_in['candidate'] == 'Clinton, Hillary']\n",
        "results_clinton =  results_clinton.drop('year', axis = 1)\n",
        "results_clinton =  results_clinton.set_index('state')"
      ],
      "execution_count": 0,
      "outputs": []
    },
    {
      "cell_type": "code",
      "metadata": {
        "id": "E-h1mE1TlJDf",
        "colab_type": "code",
        "colab": {}
      },
      "source": [
        "# All state names to lowercase for consistency between dataframes, and set state\n",
        "#  to be the index\n",
        "\n",
        "electoral.State = electoral.State.str.lower()\n",
        "electoral.set_index('State', inplace= True)"
      ],
      "execution_count": 0,
      "outputs": []
    },
    {
      "cell_type": "code",
      "metadata": {
        "id": "UDfkg_z8NveB",
        "colab_type": "code",
        "colab": {}
      },
      "source": [
        "#Fixing index irregularities and mispelling\n",
        "\n",
        "\n",
        "electoral = electoral.rename({'lousiana':'louisiana'})\n",
        "\n",
        "electoral.index=['alabama', 'alaska', 'arizona', 'arkansas', 'california',\n",
        "                 'colorado', 'connecticut', 'delaware', 'florida', 'georgia',\n",
        "                 'hawaii', 'idaho', 'illinois', 'indiana', 'iowa', 'kansas',\n",
        "                 'kentucky', 'louisiana', 'maine', 'maine2', 'maryland',\n",
        "                 'massachusetts', 'michigan','mississippi', 'minnesota',\n",
        "                 'missouri', 'montana', 'nebraska', 'nevada','new hampshire',\n",
        "                 'new jersey', 'new mexico', 'new york', 'north carolina', \n",
        "                 'north dakota', 'ohio', 'oklahoma', 'oregon', 'pennsylvania',\n",
        "                 'rhode island', 'south carolina', 'south dakota', 'tennessee',\n",
        "                 'texas', 'utah', 'vermont', 'virginia', 'washington',\n",
        "                 'district of columbia', 'west virginia', 'wisconsin',\n",
        "                 'wyoming']"
      ],
      "execution_count": 0,
      "outputs": []
    },
    {
      "cell_type": "markdown",
      "metadata": {
        "id": "TV0fE2KsmbRu",
        "colab_type": "text"
      },
      "source": [
        "# Data manipulation, creating new features"
      ]
    },
    {
      "cell_type": "markdown",
      "metadata": {
        "id": "t_ZzZEggs482",
        "colab_type": "text"
      },
      "source": [
        "## What if 18-24-year-olds voted at the same rate as 65 and older voters?"
      ]
    },
    {
      "cell_type": "code",
      "metadata": {
        "id": "ysLEA6XVma6n",
        "colab_type": "code",
        "colab": {}
      },
      "source": [
        "# A function to find the difference between 65+ voting percentage and 18-24\n",
        "#   voting percentage state by state\n",
        "\n",
        "def newyoungvote(df):\n",
        "  df['votediff'] = np.NaN\n",
        "  for st in df.index:\n",
        "    location = voters_in[voters_in['state'] == st]\n",
        "    old = location[location['Age'] == '65+'].Percent.values[0]\n",
        "    young = location[location['Age'] == '18 to 24'].Percent.values[0]\n",
        "    agediff = (old - young)\n",
        "    df['votediff'][st] = agediff\n"
      ],
      "execution_count": 0,
      "outputs": []
    },
    {
      "cell_type": "code",
      "metadata": {
        "id": "EIya2J_0mPi6",
        "colab_type": "code",
        "colab": {}
      },
      "source": [
        "# A function to give each state's winner based on vote totals\n",
        "\n",
        "def resultoutput(df):\n",
        "  outputresults = pd.DataFrame(columns=['state', 'winner'])\n",
        "  for state in df.state:\n",
        "    statea =  df[df['state'] == state]\n",
        "    a = statea[statea['party'] == 'republican']['candidatevotes'].values[0]\n",
        "    stateb =  df[df['state'] ==state]\n",
        "    b = stateb[stateb['party'] =='democrat']['candidatevotes'].values[0]\n",
        "    if a > b:\n",
        "      outputresults.loc[state] = [state, 'Trump']\n",
        "    else:\n",
        "      outputresults.loc[state] = [state, 'Clinton']\n",
        "  return outputresults"
      ],
      "execution_count": 0,
      "outputs": []
    },
    {
      "cell_type": "code",
      "metadata": {
        "id": "MfnZlm34mXdU",
        "colab_type": "code",
        "colab": {}
      },
      "source": [
        "output = resultoutput(results_in)"
      ],
      "execution_count": 0,
      "outputs": []
    },
    {
      "cell_type": "code",
      "metadata": {
        "id": "1iCJZExRyrKZ",
        "colab_type": "code",
        "colab": {}
      },
      "source": [
        "newresult = output.copy()"
      ],
      "execution_count": 0,
      "outputs": []
    },
    {
      "cell_type": "code",
      "metadata": {
        "id": "IeIgO7Mkysi8",
        "colab_type": "code",
        "colab": {}
      },
      "source": [
        "# Merging exit polling with results\n",
        "\n",
        "newresult = newresult.merge(exit_young, how = 'outer', left_index=True, right_index=True)"
      ],
      "execution_count": 0,
      "outputs": []
    },
    {
      "cell_type": "code",
      "metadata": {
        "id": "IGrdCPqey_Ne",
        "colab_type": "code",
        "colab": {}
      },
      "source": [
        "# Drop unneeded columns\n",
        "\n",
        "newresult =  newresult.drop(columns=list(newresult)[2:3]+list(newresult)[5:7])"
      ],
      "execution_count": 0,
      "outputs": []
    },
    {
      "cell_type": "code",
      "metadata": {
        "id": "_BMCBGvDzArM",
        "colab_type": "code",
        "colab": {}
      },
      "source": [
        "# Adding Trump's votes for each state, rename columns\n",
        "\n",
        "newresult = newresult.merge(results_trump['candidatevotes'], how= 'inner', left_index=True,\n",
        "                            right_index=True)\n",
        "newresult = newresult.rename({'candidatevotes':'Trump_2106', \n",
        "                              'Clinton_perc': 'Clinton_young%',\n",
        "                              'Trump_perc': 'Trump_young%'}, axis = 1)"
      ],
      "execution_count": 0,
      "outputs": []
    },
    {
      "cell_type": "code",
      "metadata": {
        "id": "fuH6M5B10DQr",
        "colab_type": "code",
        "colab": {}
      },
      "source": [
        "# Adding Clinton's votes for each state, rename columns\n",
        "\n",
        "newresult = newresult.merge(results_clinton['candidatevotes'], how= 'inner', left_index=True,\n",
        "                            right_index=True)\n",
        "newresult = newresult.rename({'candidatevotes':'Clinton_2106'}, axis = 1)\n"
      ],
      "execution_count": 0,
      "outputs": []
    },
    {
      "cell_type": "code",
      "metadata": {
        "id": "DRH1mBOB0LXR",
        "colab_type": "code",
        "colab": {}
      },
      "source": [
        "# Adding the number of 18-24 citizens in each state\n",
        "\n",
        "newresult = newresult.merge(voters_young['Citizens'], how= 'inner',\n",
        "                            left_index=True, right_index = True)\n",
        "newresult = newresult.rename({'Citizens':'Youths'}, axis = 1)"
      ],
      "execution_count": 0,
      "outputs": []
    },
    {
      "cell_type": "code",
      "metadata": {
        "id": "2iKZJwtq1mXg",
        "colab_type": "code",
        "colab": {}
      },
      "source": [
        "# Replacing Nan with the national polling data for 18-24\n",
        "\n",
        "newresult['Clinton_young%'].replace(np.NAN, 56.0, inplace=True)\n",
        "newresult['Trump_young%'].replace(np.NAN, 34.0, inplace=True)"
      ],
      "execution_count": 0,
      "outputs": []
    },
    {
      "cell_type": "code",
      "metadata": {
        "id": "7JeiUeBwzj0z",
        "colab_type": "code",
        "outputId": "d4798bfb-4380-43e7-b06f-f85f2021b938",
        "colab": {
          "base_uri": "https://localhost:8080/",
          "height": 122
        }
      },
      "source": [
        "newyoungvote(newresult)"
      ],
      "execution_count": 131,
      "outputs": [
        {
          "output_type": "stream",
          "text": [
            "/usr/local/lib/python3.6/dist-packages/ipykernel_launcher.py:9: SettingWithCopyWarning: \n",
            "A value is trying to be set on a copy of a slice from a DataFrame\n",
            "\n",
            "See the caveats in the documentation: http://pandas.pydata.org/pandas-docs/stable/user_guide/indexing.html#returning-a-view-versus-a-copy\n",
            "  if __name__ == '__main__':\n"
          ],
          "name": "stderr"
        }
      ]
    },
    {
      "cell_type": "code",
      "metadata": {
        "id": "8v1DOw7L5wjH",
        "colab_type": "code",
        "colab": {}
      },
      "source": [
        "# Adding state abbreviations to be used for maps later\n",
        "\n",
        "results_temp = results_in.copy()\n",
        "results_temp.set_index('state', inplace= True)\n",
        "newresult = newresult.merge(results_temp['state_po'],how = 'inner', left_index=True, right_index=True)\n",
        "newresult = newresult.drop_duplicates()"
      ],
      "execution_count": 0,
      "outputs": []
    },
    {
      "cell_type": "code",
      "metadata": {
        "id": "ocfoY9fB4iuE",
        "colab_type": "code",
        "colab": {}
      },
      "source": [
        "# Calculating new vote totals for each state if 18-24s voted at the same rate as\n",
        "#    65+ voters\n",
        "\n",
        "newresult['newvote'] = newresult['Youths'] * newresult['votediff'] * 10\n",
        "newresult['newTrump'] = (newresult['newvote'] * newresult['Trump_young%'] * .01) + newresult['Trump_2106']\n",
        "newresult['newClinton'] = (newresult['newvote'] * newresult['Clinton_young%'] * .01) + newresult['Clinton_2106']\n",
        "newresult['newTrumpyoung'] = newresult['newvote'] * newresult['Trump_young%'] * .01\n",
        "newresult['newClintonyoung'] = newresult['newvote'] * newresult['Clinton_young%'] * .01"
      ],
      "execution_count": 0,
      "outputs": []
    },
    {
      "cell_type": "code",
      "metadata": {
        "id": "hraseKfe5CMT",
        "colab_type": "code",
        "colab": {}
      },
      "source": [
        "# A function for finding the new winner for each state\n",
        "\n",
        "def newwinner(df):\n",
        "  df['newwinner'] = np.NAN\n",
        "  for st in df.index:\n",
        "    if df['newTrump'][st] > df['newClinton'][st]:\n",
        "      df['newwinner'][st] = 'Trump'\n",
        "    else:\n",
        "      df['newwinner'][st] = 'Clinton'"
      ],
      "execution_count": 0,
      "outputs": []
    },
    {
      "cell_type": "code",
      "metadata": {
        "id": "191Erje25D2c",
        "colab_type": "code",
        "colab": {}
      },
      "source": [
        "newwinner(newresult)"
      ],
      "execution_count": 0,
      "outputs": []
    },
    {
      "cell_type": "code",
      "metadata": {
        "id": "Wk9EcLNs5OME",
        "colab_type": "code",
        "colab": {}
      },
      "source": [
        "# New boolean column showing whether or not a state's result changed\n",
        "\n",
        "newresult['change'] = (newresult['winner'] != newresult['newwinner'])"
      ],
      "execution_count": 0,
      "outputs": []
    },
    {
      "cell_type": "code",
      "metadata": {
        "id": "AQQFyDuq5RfB",
        "colab_type": "code",
        "outputId": "6bd3372c-2fc5-4e4f-9e18-edfd707eae91",
        "colab": {
          "base_uri": "https://localhost:8080/",
          "height": 131
        }
      },
      "source": [
        "# What states changed?\n",
        "\n",
        "newresult[newresult['change']== True]"
      ],
      "execution_count": 137,
      "outputs": [
        {
          "output_type": "execute_result",
          "data": {
            "text/html": [
              "<div>\n",
              "<style scoped>\n",
              "    .dataframe tbody tr th:only-of-type {\n",
              "        vertical-align: middle;\n",
              "    }\n",
              "\n",
              "    .dataframe tbody tr th {\n",
              "        vertical-align: top;\n",
              "    }\n",
              "\n",
              "    .dataframe thead th {\n",
              "        text-align: right;\n",
              "    }\n",
              "</style>\n",
              "<table border=\"1\" class=\"dataframe\">\n",
              "  <thead>\n",
              "    <tr style=\"text-align: right;\">\n",
              "      <th></th>\n",
              "      <th>state</th>\n",
              "      <th>winner</th>\n",
              "      <th>Clinton_young%</th>\n",
              "      <th>Trump_young%</th>\n",
              "      <th>Trump_2106</th>\n",
              "      <th>Clinton_2106</th>\n",
              "      <th>Youths</th>\n",
              "      <th>votediff</th>\n",
              "      <th>state_po</th>\n",
              "      <th>newvote</th>\n",
              "      <th>newTrump</th>\n",
              "      <th>newClinton</th>\n",
              "      <th>newTrumpyoung</th>\n",
              "      <th>newClintonyoung</th>\n",
              "      <th>newwinner</th>\n",
              "      <th>change</th>\n",
              "    </tr>\n",
              "  </thead>\n",
              "  <tbody>\n",
              "    <tr>\n",
              "      <th>florida</th>\n",
              "      <td>florida</td>\n",
              "      <td>Trump</td>\n",
              "      <td>63.0</td>\n",
              "      <td>27.0</td>\n",
              "      <td>4617886</td>\n",
              "      <td>4504975</td>\n",
              "      <td>1413</td>\n",
              "      <td>32.5</td>\n",
              "      <td>FL</td>\n",
              "      <td>459225.0</td>\n",
              "      <td>4741876.75</td>\n",
              "      <td>4794286.75</td>\n",
              "      <td>123990.75</td>\n",
              "      <td>289311.75</td>\n",
              "      <td>Clinton</td>\n",
              "      <td>True</td>\n",
              "    </tr>\n",
              "    <tr>\n",
              "      <th>michigan</th>\n",
              "      <td>michigan</td>\n",
              "      <td>Trump</td>\n",
              "      <td>58.0</td>\n",
              "      <td>35.0</td>\n",
              "      <td>2279543</td>\n",
              "      <td>2268839</td>\n",
              "      <td>813</td>\n",
              "      <td>36.6</td>\n",
              "      <td>MI</td>\n",
              "      <td>297558.0</td>\n",
              "      <td>2383688.30</td>\n",
              "      <td>2441422.64</td>\n",
              "      <td>104145.30</td>\n",
              "      <td>172583.64</td>\n",
              "      <td>Clinton</td>\n",
              "      <td>True</td>\n",
              "    </tr>\n",
              "  </tbody>\n",
              "</table>\n",
              "</div>"
            ],
            "text/plain": [
              "             state winner  Clinton_young%  ...  newClintonyoung  newwinner  change\n",
              "florida    florida  Trump            63.0  ...        289311.75    Clinton    True\n",
              "michigan  michigan  Trump            58.0  ...        172583.64    Clinton    True\n",
              "\n",
              "[2 rows x 16 columns]"
            ]
          },
          "metadata": {
            "tags": []
          },
          "execution_count": 137
        }
      ]
    },
    {
      "cell_type": "code",
      "metadata": {
        "id": "GeP6t-Ej5Sk4",
        "colab_type": "code",
        "colab": {}
      },
      "source": [
        "# Adding electoral votes\n",
        "\n",
        "newresult = newresult.merge(electoral['Votes'], how= 'inner', left_index=True,\n",
        "                            right_index=True)"
      ],
      "execution_count": 0,
      "outputs": []
    },
    {
      "cell_type": "code",
      "metadata": {
        "id": "lw5WSwG6EvmV",
        "colab_type": "code",
        "colab": {}
      },
      "source": [
        "# Avoiding confusion by renaming electoral votes!\n",
        "\n",
        "newresult = newresult.rename({'Votes':'electoral'}, axis = 1)"
      ],
      "execution_count": 0,
      "outputs": []
    },
    {
      "cell_type": "code",
      "metadata": {
        "id": "LM4dDRSGUsan",
        "colab_type": "code",
        "colab": {}
      },
      "source": [
        "# Empty column for new data for plotting\n",
        "\n",
        "newresult['changemap'] = ''"
      ],
      "execution_count": 0,
      "outputs": []
    },
    {
      "cell_type": "code",
      "metadata": {
        "id": "v98B-S-BFFuH",
        "colab_type": "code",
        "colab": {}
      },
      "source": [
        "# New column combining winner and if state changed (for mapping)\n",
        "\n",
        "for st in newresult.index:\n",
        "  if newresult['change'][st] == True:\n",
        "    newresult['changemap'][st] = 'Changed from Trump to Clinton'\n",
        "  else:\n",
        "    if newresult['winner'][st] == 'Clinton':\n",
        "      newresult['changemap'][st] = 'Clinton'\n",
        "    else:\n",
        "      newresult['changemap'][st] = newresult['winner'][st]"
      ],
      "execution_count": 0,
      "outputs": []
    },
    {
      "cell_type": "code",
      "metadata": {
        "id": "Y0tAYR766WOD",
        "colab_type": "code",
        "colab": {}
      },
      "source": [
        "#Checking states I had to substitute national data\n",
        "\n",
        "temp = newresult[newresult['Clinton_young%'] == 56.0].copy()"
      ],
      "execution_count": 0,
      "outputs": []
    },
    {
      "cell_type": "code",
      "metadata": {
        "id": "gGtaFJkV6sbJ",
        "colab_type": "code",
        "colab": {}
      },
      "source": [
        "# Percentage margin of victory (or defeat)\n",
        "\n",
        "temp['ratio2'] = (temp['Clinton_2106']-temp['Trump_2106'])/(temp['Clinton_2106']+temp['Trump_2106'])"
      ],
      "execution_count": 0,
      "outputs": []
    },
    {
      "cell_type": "code",
      "metadata": {
        "id": "qdA0r0pY7Rt-",
        "colab_type": "code",
        "colab": {}
      },
      "source": [
        "# Vote ratio\n",
        "\n",
        "temp['ratio'] = temp['Clinton_2106']/temp['Trump_2106']"
      ],
      "execution_count": 0,
      "outputs": []
    },
    {
      "cell_type": "code",
      "metadata": {
        "id": "6raEvsSv61Oh",
        "colab_type": "code",
        "colab": {
          "base_uri": "https://localhost:8080/",
          "height": 514
        },
        "outputId": "12969615-7088-4d8c-8dd6-8523fd87a961"
      },
      "source": [
        "temp[temp['winner']=='Trump'][['ratio', 'ratio2']]"
      ],
      "execution_count": 178,
      "outputs": [
        {
          "output_type": "execute_result",
          "data": {
            "text/html": [
              "<div>\n",
              "<style scoped>\n",
              "    .dataframe tbody tr th:only-of-type {\n",
              "        vertical-align: middle;\n",
              "    }\n",
              "\n",
              "    .dataframe tbody tr th {\n",
              "        vertical-align: top;\n",
              "    }\n",
              "\n",
              "    .dataframe thead th {\n",
              "        text-align: right;\n",
              "    }\n",
              "</style>\n",
              "<table border=\"1\" class=\"dataframe\">\n",
              "  <thead>\n",
              "    <tr style=\"text-align: right;\">\n",
              "      <th></th>\n",
              "      <th>ratio</th>\n",
              "      <th>ratio2</th>\n",
              "    </tr>\n",
              "  </thead>\n",
              "  <tbody>\n",
              "    <tr>\n",
              "      <th>alabama</th>\n",
              "      <td>0.553419</td>\n",
              "      <td>-0.287483</td>\n",
              "    </tr>\n",
              "    <tr>\n",
              "      <th>alaska</th>\n",
              "      <td>0.712749</td>\n",
              "      <td>-0.167713</td>\n",
              "    </tr>\n",
              "    <tr>\n",
              "      <th>arkansas</th>\n",
              "      <td>0.555570</td>\n",
              "      <td>-0.285703</td>\n",
              "    </tr>\n",
              "    <tr>\n",
              "      <th>idaho</th>\n",
              "      <td>0.463911</td>\n",
              "      <td>-0.366204</td>\n",
              "    </tr>\n",
              "    <tr>\n",
              "      <th>kansas</th>\n",
              "      <td>0.636354</td>\n",
              "      <td>-0.222229</td>\n",
              "    </tr>\n",
              "    <tr>\n",
              "      <th>louisiana</th>\n",
              "      <td>0.661911</td>\n",
              "      <td>-0.203434</td>\n",
              "    </tr>\n",
              "    <tr>\n",
              "      <th>mississippi</th>\n",
              "      <td>0.692338</td>\n",
              "      <td>-0.181797</td>\n",
              "    </tr>\n",
              "    <tr>\n",
              "      <th>montana</th>\n",
              "      <td>0.636402</td>\n",
              "      <td>-0.222193</td>\n",
              "    </tr>\n",
              "    <tr>\n",
              "      <th>nebraska</th>\n",
              "      <td>0.573622</td>\n",
              "      <td>-0.270953</td>\n",
              "    </tr>\n",
              "    <tr>\n",
              "      <th>north dakota</th>\n",
              "      <td>0.432475</td>\n",
              "      <td>-0.396185</td>\n",
              "    </tr>\n",
              "    <tr>\n",
              "      <th>oklahoma</th>\n",
              "      <td>0.442903</td>\n",
              "      <td>-0.386095</td>\n",
              "    </tr>\n",
              "    <tr>\n",
              "      <th>south dakota</th>\n",
              "      <td>0.515798</td>\n",
              "      <td>-0.319437</td>\n",
              "    </tr>\n",
              "    <tr>\n",
              "      <th>tennessee</th>\n",
              "      <td>0.571725</td>\n",
              "      <td>-0.272487</td>\n",
              "    </tr>\n",
              "    <tr>\n",
              "      <th>west virginia</th>\n",
              "      <td>0.385789</td>\n",
              "      <td>-0.443221</td>\n",
              "    </tr>\n",
              "    <tr>\n",
              "      <th>wyoming</th>\n",
              "      <td>0.320911</td>\n",
              "      <td>-0.514106</td>\n",
              "    </tr>\n",
              "  </tbody>\n",
              "</table>\n",
              "</div>"
            ],
            "text/plain": [
              "                  ratio    ratio2\n",
              "alabama        0.553419 -0.287483\n",
              "alaska         0.712749 -0.167713\n",
              "arkansas       0.555570 -0.285703\n",
              "idaho          0.463911 -0.366204\n",
              "kansas         0.636354 -0.222229\n",
              "louisiana      0.661911 -0.203434\n",
              "mississippi    0.692338 -0.181797\n",
              "montana        0.636402 -0.222193\n",
              "nebraska       0.573622 -0.270953\n",
              "north dakota   0.432475 -0.396185\n",
              "oklahoma       0.442903 -0.386095\n",
              "south dakota   0.515798 -0.319437\n",
              "tennessee      0.571725 -0.272487\n",
              "west virginia  0.385789 -0.443221\n",
              "wyoming        0.320911 -0.514106"
            ]
          },
          "metadata": {
            "tags": []
          },
          "execution_count": 178
        }
      ]
    },
    {
      "cell_type": "code",
      "metadata": {
        "id": "EgeuQULt8Aez",
        "colab_type": "code",
        "colab": {
          "base_uri": "https://localhost:8080/",
          "height": 359
        },
        "outputId": "0efa76f6-7d46-46e0-d6e8-896788a8556f"
      },
      "source": [
        "temp[temp['winner']=='Clinton'][['ratio', 'ratio2']]"
      ],
      "execution_count": 179,
      "outputs": [
        {
          "output_type": "execute_result",
          "data": {
            "text/html": [
              "<div>\n",
              "<style scoped>\n",
              "    .dataframe tbody tr th:only-of-type {\n",
              "        vertical-align: middle;\n",
              "    }\n",
              "\n",
              "    .dataframe tbody tr th {\n",
              "        vertical-align: top;\n",
              "    }\n",
              "\n",
              "    .dataframe thead th {\n",
              "        text-align: right;\n",
              "    }\n",
              "</style>\n",
              "<table border=\"1\" class=\"dataframe\">\n",
              "  <thead>\n",
              "    <tr style=\"text-align: right;\">\n",
              "      <th></th>\n",
              "      <th>ratio</th>\n",
              "      <th>ratio2</th>\n",
              "    </tr>\n",
              "  </thead>\n",
              "  <tbody>\n",
              "    <tr>\n",
              "      <th>connecticut</th>\n",
              "      <td>1.333262</td>\n",
              "      <td>0.142831</td>\n",
              "    </tr>\n",
              "    <tr>\n",
              "      <th>delaware</th>\n",
              "      <td>1.272656</td>\n",
              "      <td>0.119972</td>\n",
              "    </tr>\n",
              "    <tr>\n",
              "      <th>district of columbia</th>\n",
              "      <td>22.229820</td>\n",
              "      <td>0.913904</td>\n",
              "    </tr>\n",
              "    <tr>\n",
              "      <th>hawaii</th>\n",
              "      <td>2.071379</td>\n",
              "      <td>0.348827</td>\n",
              "    </tr>\n",
              "    <tr>\n",
              "      <th>maryland</th>\n",
              "      <td>1.779032</td>\n",
              "      <td>0.280325</td>\n",
              "    </tr>\n",
              "    <tr>\n",
              "      <th>massachusetts</th>\n",
              "      <td>1.828957</td>\n",
              "      <td>0.293026</td>\n",
              "    </tr>\n",
              "    <tr>\n",
              "      <th>oregon</th>\n",
              "      <td>1.280805</td>\n",
              "      <td>0.123117</td>\n",
              "    </tr>\n",
              "    <tr>\n",
              "      <th>rhode island</th>\n",
              "      <td>1.398697</td>\n",
              "      <td>0.166214</td>\n",
              "    </tr>\n",
              "    <tr>\n",
              "      <th>vermont</th>\n",
              "      <td>1.872443</td>\n",
              "      <td>0.303729</td>\n",
              "    </tr>\n",
              "    <tr>\n",
              "      <th>washington</th>\n",
              "      <td>1.426415</td>\n",
              "      <td>0.175739</td>\n",
              "    </tr>\n",
              "  </tbody>\n",
              "</table>\n",
              "</div>"
            ],
            "text/plain": [
              "                          ratio    ratio2\n",
              "connecticut            1.333262  0.142831\n",
              "delaware               1.272656  0.119972\n",
              "district of columbia  22.229820  0.913904\n",
              "hawaii                 2.071379  0.348827\n",
              "maryland               1.779032  0.280325\n",
              "massachusetts          1.828957  0.293026\n",
              "oregon                 1.280805  0.123117\n",
              "rhode island           1.398697  0.166214\n",
              "vermont                1.872443  0.303729\n",
              "washington             1.426415  0.175739"
            ]
          },
          "metadata": {
            "tags": []
          },
          "execution_count": 179
        }
      ]
    },
    {
      "cell_type": "code",
      "metadata": {
        "id": "TGVtC86-8RJC",
        "colab_type": "code",
        "colab": {
          "base_uri": "https://localhost:8080/",
          "height": 34
        },
        "outputId": "d3447449-2745-488a-d818-7115474dbb65"
      },
      "source": [
        "temp[temp['winner']=='Clinton']['ratio2'].mean()"
      ],
      "execution_count": 181,
      "outputs": [
        {
          "output_type": "execute_result",
          "data": {
            "text/plain": [
              "0.2867682473786652"
            ]
          },
          "metadata": {
            "tags": []
          },
          "execution_count": 181
        }
      ]
    },
    {
      "cell_type": "code",
      "metadata": {
        "id": "2i4nuJQM8mg7",
        "colab_type": "code",
        "colab": {
          "base_uri": "https://localhost:8080/",
          "height": 34
        },
        "outputId": "db835865-8a75-44ba-d61e-45c1a8d483a9"
      },
      "source": [
        "temp[temp['winner']=='Trump']['ratio2'].mean()"
      ],
      "execution_count": 184,
      "outputs": [
        {
          "output_type": "execute_result",
          "data": {
            "text/plain": [
              "-0.3026159988670294"
            ]
          },
          "metadata": {
            "tags": []
          },
          "execution_count": 184
        }
      ]
    },
    {
      "cell_type": "markdown",
      "metadata": {
        "id": "0TcBRslg5Vml",
        "colab_type": "text"
      },
      "source": [
        "## Another version where every youth votes\n"
      ]
    },
    {
      "cell_type": "code",
      "metadata": {
        "id": "kkEFyU7N5ZGI",
        "colab_type": "code",
        "outputId": "79066b22-f7bf-44ef-99dd-045c293f0689",
        "colab": {
          "base_uri": "https://localhost:8080/",
          "height": 224
        }
      },
      "source": [
        "# New dataframe for these results\n",
        "\n",
        "newresultallyouth = newresult.copy()\n",
        "newresultallyouth.head()"
      ],
      "execution_count": 142,
      "outputs": [
        {
          "output_type": "execute_result",
          "data": {
            "text/html": [
              "<div>\n",
              "<style scoped>\n",
              "    .dataframe tbody tr th:only-of-type {\n",
              "        vertical-align: middle;\n",
              "    }\n",
              "\n",
              "    .dataframe tbody tr th {\n",
              "        vertical-align: top;\n",
              "    }\n",
              "\n",
              "    .dataframe thead th {\n",
              "        text-align: right;\n",
              "    }\n",
              "</style>\n",
              "<table border=\"1\" class=\"dataframe\">\n",
              "  <thead>\n",
              "    <tr style=\"text-align: right;\">\n",
              "      <th></th>\n",
              "      <th>state</th>\n",
              "      <th>winner</th>\n",
              "      <th>Clinton_young%</th>\n",
              "      <th>Trump_young%</th>\n",
              "      <th>Trump_2106</th>\n",
              "      <th>Clinton_2106</th>\n",
              "      <th>Youths</th>\n",
              "      <th>votediff</th>\n",
              "      <th>state_po</th>\n",
              "      <th>newvote</th>\n",
              "      <th>newTrump</th>\n",
              "      <th>newClinton</th>\n",
              "      <th>newTrumpyoung</th>\n",
              "      <th>newClintonyoung</th>\n",
              "      <th>newwinner</th>\n",
              "      <th>change</th>\n",
              "      <th>electoral</th>\n",
              "      <th>changemap</th>\n",
              "    </tr>\n",
              "  </thead>\n",
              "  <tbody>\n",
              "    <tr>\n",
              "      <th>alabama</th>\n",
              "      <td>alabama</td>\n",
              "      <td>Trump</td>\n",
              "      <td>56.0</td>\n",
              "      <td>34.0</td>\n",
              "      <td>1318255</td>\n",
              "      <td>729547</td>\n",
              "      <td>497</td>\n",
              "      <td>24.2</td>\n",
              "      <td>AL</td>\n",
              "      <td>120274.0</td>\n",
              "      <td>1359148.16</td>\n",
              "      <td>796900.44</td>\n",
              "      <td>40893.16</td>\n",
              "      <td>67353.44</td>\n",
              "      <td>Trump</td>\n",
              "      <td>False</td>\n",
              "      <td>9</td>\n",
              "      <td>Trump</td>\n",
              "    </tr>\n",
              "    <tr>\n",
              "      <th>alaska</th>\n",
              "      <td>alaska</td>\n",
              "      <td>Trump</td>\n",
              "      <td>56.0</td>\n",
              "      <td>34.0</td>\n",
              "      <td>163387</td>\n",
              "      <td>116454</td>\n",
              "      <td>65</td>\n",
              "      <td>32.0</td>\n",
              "      <td>AK</td>\n",
              "      <td>20800.0</td>\n",
              "      <td>170459.00</td>\n",
              "      <td>128102.00</td>\n",
              "      <td>7072.00</td>\n",
              "      <td>11648.00</td>\n",
              "      <td>Trump</td>\n",
              "      <td>False</td>\n",
              "      <td>3</td>\n",
              "      <td>Trump</td>\n",
              "    </tr>\n",
              "    <tr>\n",
              "      <th>arizona</th>\n",
              "      <td>arizona</td>\n",
              "      <td>Trump</td>\n",
              "      <td>53.0</td>\n",
              "      <td>35.0</td>\n",
              "      <td>1252401</td>\n",
              "      <td>1161167</td>\n",
              "      <td>654</td>\n",
              "      <td>32.0</td>\n",
              "      <td>AZ</td>\n",
              "      <td>209280.0</td>\n",
              "      <td>1325649.00</td>\n",
              "      <td>1272085.40</td>\n",
              "      <td>73248.00</td>\n",
              "      <td>110918.40</td>\n",
              "      <td>Trump</td>\n",
              "      <td>False</td>\n",
              "      <td>11</td>\n",
              "      <td>Trump</td>\n",
              "    </tr>\n",
              "    <tr>\n",
              "      <th>arkansas</th>\n",
              "      <td>arkansas</td>\n",
              "      <td>Trump</td>\n",
              "      <td>56.0</td>\n",
              "      <td>34.0</td>\n",
              "      <td>684872</td>\n",
              "      <td>380494</td>\n",
              "      <td>180</td>\n",
              "      <td>32.8</td>\n",
              "      <td>AR</td>\n",
              "      <td>59040.0</td>\n",
              "      <td>704945.60</td>\n",
              "      <td>413556.40</td>\n",
              "      <td>20073.60</td>\n",
              "      <td>33062.40</td>\n",
              "      <td>Trump</td>\n",
              "      <td>False</td>\n",
              "      <td>6</td>\n",
              "      <td>Trump</td>\n",
              "    </tr>\n",
              "    <tr>\n",
              "      <th>california</th>\n",
              "      <td>california</td>\n",
              "      <td>Clinton</td>\n",
              "      <td>67.0</td>\n",
              "      <td>18.0</td>\n",
              "      <td>4483810</td>\n",
              "      <td>8753788</td>\n",
              "      <td>3308</td>\n",
              "      <td>26.5</td>\n",
              "      <td>CA</td>\n",
              "      <td>876620.0</td>\n",
              "      <td>4641601.60</td>\n",
              "      <td>9341123.40</td>\n",
              "      <td>157791.60</td>\n",
              "      <td>587335.40</td>\n",
              "      <td>Clinton</td>\n",
              "      <td>False</td>\n",
              "      <td>55</td>\n",
              "      <td>Clinton</td>\n",
              "    </tr>\n",
              "  </tbody>\n",
              "</table>\n",
              "</div>"
            ],
            "text/plain": [
              "                 state   winner  Clinton_young%  ...  change  electoral  changemap\n",
              "alabama        alabama    Trump            56.0  ...   False          9      Trump\n",
              "alaska          alaska    Trump            56.0  ...   False          3      Trump\n",
              "arizona        arizona    Trump            53.0  ...   False         11      Trump\n",
              "arkansas      arkansas    Trump            56.0  ...   False          6      Trump\n",
              "california  california  Clinton            67.0  ...   False         55    Clinton\n",
              "\n",
              "[5 rows x 18 columns]"
            ]
          },
          "metadata": {
            "tags": []
          },
          "execution_count": 142
        }
      ]
    },
    {
      "cell_type": "code",
      "metadata": {
        "id": "SMeVP7q65dOQ",
        "colab_type": "code",
        "colab": {}
      },
      "source": [
        "# Getting rid of columns from our first analysis\n",
        "\n",
        "newresultallyouth.drop(['votediff', 'newvote'],\n",
        "                axis = 1, inplace = True)\n"
      ],
      "execution_count": 0,
      "outputs": []
    },
    {
      "cell_type": "code",
      "metadata": {
        "id": "SqkSjmSG5efI",
        "colab_type": "code",
        "colab": {}
      },
      "source": [
        "# Calculating new vote totals for each state if all 18-24 voted\n",
        "\n",
        "newresultallyouth['newTrump'] = ((newresultallyouth['Youths'] *\n",
        "                                 newresultallyouth['Trump_young%'] * 10) +\n",
        "                                 newresultallyouth['Trump_2106'])\n",
        "newresultallyouth['newClinton'] = ((newresultallyouth['Youths'] *\n",
        "                                   newresultallyouth['Clinton_young%'] * 10) +\n",
        "                                    newresultallyouth['Clinton_2106'])\n",
        "newresultallyouth['newTrumpyoung'] = ((newresultallyouth['Youths'] *\n",
        "                                 newresultallyouth['Trump_young%'] * 10))\n",
        "newresultallyouth['newClintonyoung'] = ((newresultallyouth['Youths'] *\n",
        "                                   newresultallyouth['Clinton_young%'] * 10))"
      ],
      "execution_count": 0,
      "outputs": []
    },
    {
      "cell_type": "code",
      "metadata": {
        "id": "Is-QfGuW5gC6",
        "colab_type": "code",
        "outputId": "babba9d7-9c00-4312-e719-014e35c66639",
        "colab": {
          "base_uri": "https://localhost:8080/",
          "height": 292
        }
      },
      "source": [
        "# Running the new winner function to find the new winner in each state if every \n",
        "#   18-24-year-old voted\n",
        "\n",
        "newwinner(newresultallyouth)"
      ],
      "execution_count": 145,
      "outputs": [
        {
          "output_type": "stream",
          "text": [
            "/usr/local/lib/python3.6/dist-packages/ipykernel_launcher.py:5: SettingWithCopyWarning: \n",
            "A value is trying to be set on a copy of a slice from a DataFrame\n",
            "\n",
            "See the caveats in the documentation: http://pandas.pydata.org/pandas-docs/stable/user_guide/indexing.html#returning-a-view-versus-a-copy\n",
            "  \"\"\"\n",
            "/usr/local/lib/python3.6/dist-packages/pandas/core/indexing.py:205: SettingWithCopyWarning: \n",
            "A value is trying to be set on a copy of a slice from a DataFrame\n",
            "\n",
            "See the caveats in the documentation: http://pandas.pydata.org/pandas-docs/stable/user_guide/indexing.html#returning-a-view-versus-a-copy\n",
            "  self._setitem_with_indexer(indexer, value)\n",
            "/usr/local/lib/python3.6/dist-packages/ipykernel_launcher.py:7: SettingWithCopyWarning: \n",
            "A value is trying to be set on a copy of a slice from a DataFrame\n",
            "\n",
            "See the caveats in the documentation: http://pandas.pydata.org/pandas-docs/stable/user_guide/indexing.html#returning-a-view-versus-a-copy\n",
            "  import sys\n"
          ],
          "name": "stderr"
        }
      ]
    },
    {
      "cell_type": "code",
      "metadata": {
        "id": "cUgdenXM5h5C",
        "colab_type": "code",
        "colab": {}
      },
      "source": [
        "# New boolean column showing whether or not a state's result changed\n",
        "\n",
        "newresultallyouth['change'] = (newresultallyouth['winner'] != newresultallyouth['newwinner'])"
      ],
      "execution_count": 0,
      "outputs": []
    },
    {
      "cell_type": "code",
      "metadata": {
        "id": "HrV2vKM5NFH-",
        "colab_type": "code",
        "colab": {
          "base_uri": "https://localhost:8080/",
          "height": 340
        },
        "outputId": "ff398af2-2eba-4ef5-bc2d-b961c5329ed4"
      },
      "source": [
        "# Let's see what happened...\n",
        "\n",
        "newresultallyouth[newresultallyouth['change'] == True]"
      ],
      "execution_count": 147,
      "outputs": [
        {
          "output_type": "execute_result",
          "data": {
            "text/html": [
              "<div>\n",
              "<style scoped>\n",
              "    .dataframe tbody tr th:only-of-type {\n",
              "        vertical-align: middle;\n",
              "    }\n",
              "\n",
              "    .dataframe tbody tr th {\n",
              "        vertical-align: top;\n",
              "    }\n",
              "\n",
              "    .dataframe thead th {\n",
              "        text-align: right;\n",
              "    }\n",
              "</style>\n",
              "<table border=\"1\" class=\"dataframe\">\n",
              "  <thead>\n",
              "    <tr style=\"text-align: right;\">\n",
              "      <th></th>\n",
              "      <th>state</th>\n",
              "      <th>winner</th>\n",
              "      <th>Clinton_young%</th>\n",
              "      <th>Trump_young%</th>\n",
              "      <th>Trump_2106</th>\n",
              "      <th>Clinton_2106</th>\n",
              "      <th>Youths</th>\n",
              "      <th>state_po</th>\n",
              "      <th>newTrump</th>\n",
              "      <th>newClinton</th>\n",
              "      <th>newTrumpyoung</th>\n",
              "      <th>newClintonyoung</th>\n",
              "      <th>newwinner</th>\n",
              "      <th>change</th>\n",
              "      <th>electoral</th>\n",
              "      <th>changemap</th>\n",
              "    </tr>\n",
              "  </thead>\n",
              "  <tbody>\n",
              "    <tr>\n",
              "      <th>arizona</th>\n",
              "      <td>arizona</td>\n",
              "      <td>Trump</td>\n",
              "      <td>53.0</td>\n",
              "      <td>35.0</td>\n",
              "      <td>1252401</td>\n",
              "      <td>1161167</td>\n",
              "      <td>654</td>\n",
              "      <td>AZ</td>\n",
              "      <td>1481301.0</td>\n",
              "      <td>1507787.0</td>\n",
              "      <td>228900.0</td>\n",
              "      <td>346620.0</td>\n",
              "      <td>Clinton</td>\n",
              "      <td>True</td>\n",
              "      <td>11</td>\n",
              "      <td>Trump</td>\n",
              "    </tr>\n",
              "    <tr>\n",
              "      <th>florida</th>\n",
              "      <td>florida</td>\n",
              "      <td>Trump</td>\n",
              "      <td>63.0</td>\n",
              "      <td>27.0</td>\n",
              "      <td>4617886</td>\n",
              "      <td>4504975</td>\n",
              "      <td>1413</td>\n",
              "      <td>FL</td>\n",
              "      <td>4999396.0</td>\n",
              "      <td>5395165.0</td>\n",
              "      <td>381510.0</td>\n",
              "      <td>890190.0</td>\n",
              "      <td>Clinton</td>\n",
              "      <td>True</td>\n",
              "      <td>29</td>\n",
              "      <td>Changed from Trump to Clinton</td>\n",
              "    </tr>\n",
              "    <tr>\n",
              "      <th>georgia</th>\n",
              "      <td>georgia</td>\n",
              "      <td>Trump</td>\n",
              "      <td>65.0</td>\n",
              "      <td>29.0</td>\n",
              "      <td>2089104</td>\n",
              "      <td>1877963</td>\n",
              "      <td>923</td>\n",
              "      <td>GA</td>\n",
              "      <td>2356774.0</td>\n",
              "      <td>2477913.0</td>\n",
              "      <td>267670.0</td>\n",
              "      <td>599950.0</td>\n",
              "      <td>Clinton</td>\n",
              "      <td>True</td>\n",
              "      <td>16</td>\n",
              "      <td>Trump</td>\n",
              "    </tr>\n",
              "    <tr>\n",
              "      <th>michigan</th>\n",
              "      <td>michigan</td>\n",
              "      <td>Trump</td>\n",
              "      <td>58.0</td>\n",
              "      <td>35.0</td>\n",
              "      <td>2279543</td>\n",
              "      <td>2268839</td>\n",
              "      <td>813</td>\n",
              "      <td>MI</td>\n",
              "      <td>2564093.0</td>\n",
              "      <td>2740379.0</td>\n",
              "      <td>284550.0</td>\n",
              "      <td>471540.0</td>\n",
              "      <td>Clinton</td>\n",
              "      <td>True</td>\n",
              "      <td>16</td>\n",
              "      <td>Changed from Trump to Clinton</td>\n",
              "    </tr>\n",
              "    <tr>\n",
              "      <th>north carolina</th>\n",
              "      <td>north carolina</td>\n",
              "      <td>Trump</td>\n",
              "      <td>58.0</td>\n",
              "      <td>36.0</td>\n",
              "      <td>2362631</td>\n",
              "      <td>2189316</td>\n",
              "      <td>817</td>\n",
              "      <td>NC</td>\n",
              "      <td>2656751.0</td>\n",
              "      <td>2663176.0</td>\n",
              "      <td>294120.0</td>\n",
              "      <td>473860.0</td>\n",
              "      <td>Clinton</td>\n",
              "      <td>True</td>\n",
              "      <td>15</td>\n",
              "      <td>Trump</td>\n",
              "    </tr>\n",
              "    <tr>\n",
              "      <th>pennsylvania</th>\n",
              "      <td>pennsylvania</td>\n",
              "      <td>Trump</td>\n",
              "      <td>50.0</td>\n",
              "      <td>45.0</td>\n",
              "      <td>2970733</td>\n",
              "      <td>2926441</td>\n",
              "      <td>1130</td>\n",
              "      <td>PA</td>\n",
              "      <td>3479233.0</td>\n",
              "      <td>3491441.0</td>\n",
              "      <td>508500.0</td>\n",
              "      <td>565000.0</td>\n",
              "      <td>Clinton</td>\n",
              "      <td>True</td>\n",
              "      <td>20</td>\n",
              "      <td>Trump</td>\n",
              "    </tr>\n",
              "  </tbody>\n",
              "</table>\n",
              "</div>"
            ],
            "text/plain": [
              "                         state winner  ...  electoral                      changemap\n",
              "arizona                arizona  Trump  ...         11                          Trump\n",
              "florida                florida  Trump  ...         29  Changed from Trump to Clinton\n",
              "georgia                georgia  Trump  ...         16                          Trump\n",
              "michigan              michigan  Trump  ...         16  Changed from Trump to Clinton\n",
              "north carolina  north carolina  Trump  ...         15                          Trump\n",
              "pennsylvania      pennsylvania  Trump  ...         20                          Trump\n",
              "\n",
              "[6 rows x 16 columns]"
            ]
          },
          "metadata": {
            "tags": []
          },
          "execution_count": 147
        }
      ]
    },
    {
      "cell_type": "code",
      "metadata": {
        "id": "O-kBcXEfKE7X",
        "colab_type": "code",
        "colab": {}
      },
      "source": [
        "# Empty column for new data for plotting\n",
        "\n",
        "newresultallyouth['changemap'] = ''"
      ],
      "execution_count": 0,
      "outputs": []
    },
    {
      "cell_type": "code",
      "metadata": {
        "id": "jfq1w7AC5lRI",
        "colab_type": "code",
        "outputId": "fd032c5d-7847-4be5-d055-bad65c7b70b1",
        "colab": {
          "base_uri": "https://localhost:8080/",
          "height": 292
        }
      },
      "source": [
        "# New column combining winner and if state changed (for plotting)\n",
        "\n",
        "for st in newresultallyouth.index:\n",
        "  if newresultallyouth['change'][st] == True:\n",
        "    newresultallyouth['changemap'][st] = 'Changed from Trump to Clinton'\n",
        "  else:\n",
        "    if newresultallyouth['winner'][st] == 'Clinton':\n",
        "      newresultallyouth['changemap'][st] = 'Clinton'\n",
        "    else:\n",
        "      newresultallyouth['changemap'][st] = newresultallyouth['winner'][st]"
      ],
      "execution_count": 149,
      "outputs": [
        {
          "output_type": "stream",
          "text": [
            "/usr/local/lib/python3.6/dist-packages/ipykernel_launcher.py:8: SettingWithCopyWarning: \n",
            "A value is trying to be set on a copy of a slice from a DataFrame\n",
            "\n",
            "See the caveats in the documentation: http://pandas.pydata.org/pandas-docs/stable/user_guide/indexing.html#returning-a-view-versus-a-copy\n",
            "  \n",
            "/usr/local/lib/python3.6/dist-packages/ipykernel_launcher.py:3: SettingWithCopyWarning: \n",
            "A value is trying to be set on a copy of a slice from a DataFrame\n",
            "\n",
            "See the caveats in the documentation: http://pandas.pydata.org/pandas-docs/stable/user_guide/indexing.html#returning-a-view-versus-a-copy\n",
            "  This is separate from the ipykernel package so we can avoid doing imports until\n",
            "/usr/local/lib/python3.6/dist-packages/ipykernel_launcher.py:6: SettingWithCopyWarning: \n",
            "A value is trying to be set on a copy of a slice from a DataFrame\n",
            "\n",
            "See the caveats in the documentation: http://pandas.pydata.org/pandas-docs/stable/user_guide/indexing.html#returning-a-view-versus-a-copy\n",
            "  \n"
          ],
          "name": "stderr"
        }
      ]
    },
    {
      "cell_type": "markdown",
      "metadata": {
        "id": "JNIZ8CqWfWxM",
        "colab_type": "text"
      },
      "source": [
        "## Turning our state by state results into electoral college results\n"
      ]
    },
    {
      "cell_type": "code",
      "metadata": {
        "id": "t0Csio1qd9HA",
        "colab_type": "code",
        "colab": {}
      },
      "source": [
        "# New dataframe for electoral college totals\n",
        "\n",
        "electoral_results = pd.DataFrame(index = ['If all 18-24-year-olds voted',\n",
        "                                          'If 18-24-year-olds voted at the same rate as those 65 and older',\n",
        "                                          'Actual 2016 Result'],\n",
        "                                  columns= [ 'Trump','Clinton'])"
      ],
      "execution_count": 0,
      "outputs": []
    },
    {
      "cell_type": "code",
      "metadata": {
        "id": "rvXc-JpJglka",
        "colab_type": "code",
        "colab": {}
      },
      "source": [
        "# Filling the dataframe with the actual results and our results from the data\n",
        "\n",
        "for can in ['Clinton', 'Trump']:\n",
        "  electoral_results.loc['Actual 2016 Result',\n",
        "                        can] = newresult[newresult['winner'] == can]['electoral'].sum()\n",
        "  electoral_results.loc['If all 18-24-year-olds voted',\n",
        "                        can] = newresultallyouth[newresultallyouth['newwinner'] == can]['electoral'].sum()\n",
        "  electoral_results.loc['If 18-24-year-olds voted at the same rate as those 65 and older',\n",
        "                        can] = newresult[newresult['newwinner'] == can]['electoral'].sum()"
      ],
      "execution_count": 0,
      "outputs": []
    },
    {
      "cell_type": "code",
      "metadata": {
        "id": "0_c23ZobFuCV",
        "colab_type": "code",
        "outputId": "dfac32e4-abb5-4be3-a266-430c3ad85772",
        "colab": {
          "base_uri": "https://localhost:8080/",
          "height": 142
        }
      },
      "source": [
        "electoral_results"
      ],
      "execution_count": 152,
      "outputs": [
        {
          "output_type": "execute_result",
          "data": {
            "text/html": [
              "<div>\n",
              "<style scoped>\n",
              "    .dataframe tbody tr th:only-of-type {\n",
              "        vertical-align: middle;\n",
              "    }\n",
              "\n",
              "    .dataframe tbody tr th {\n",
              "        vertical-align: top;\n",
              "    }\n",
              "\n",
              "    .dataframe thead th {\n",
              "        text-align: right;\n",
              "    }\n",
              "</style>\n",
              "<table border=\"1\" class=\"dataframe\">\n",
              "  <thead>\n",
              "    <tr style=\"text-align: right;\">\n",
              "      <th></th>\n",
              "      <th>Trump</th>\n",
              "      <th>Clinton</th>\n",
              "    </tr>\n",
              "  </thead>\n",
              "  <tbody>\n",
              "    <tr>\n",
              "      <th>If all 18-24-year-olds voted</th>\n",
              "      <td>198</td>\n",
              "      <td>339</td>\n",
              "    </tr>\n",
              "    <tr>\n",
              "      <th>If 18-24-year-olds voted at the same rate as those 65 and older</th>\n",
              "      <td>260</td>\n",
              "      <td>277</td>\n",
              "    </tr>\n",
              "    <tr>\n",
              "      <th>Actual 2016 Result</th>\n",
              "      <td>305</td>\n",
              "      <td>232</td>\n",
              "    </tr>\n",
              "  </tbody>\n",
              "</table>\n",
              "</div>"
            ],
            "text/plain": [
              "                                                    Trump  Clinton\n",
              "If all 18-24-year-olds voted                          198      339\n",
              "If 18-24-year-olds voted at the same rate as th...    260      277\n",
              "Actual 2016 Result                                    305      232"
            ]
          },
          "metadata": {
            "tags": []
          },
          "execution_count": 152
        }
      ]
    },
    {
      "cell_type": "markdown",
      "metadata": {
        "id": "WXwMUX795w9A",
        "colab_type": "text"
      },
      "source": [
        "# Plots"
      ]
    },
    {
      "cell_type": "code",
      "metadata": {
        "id": "-CbDypZu5mcQ",
        "colab_type": "code",
        "colab": {}
      },
      "source": [
        "# An electoral colormap for our states\n",
        "\n",
        "cmap = matplotlib.colors.ListedColormap(['xkcd:dark blue', 'xkcd:blue', 'xkcd:red'])"
      ],
      "execution_count": 0,
      "outputs": []
    },
    {
      "cell_type": "code",
      "metadata": {
        "id": "J46m4FMc6cQt",
        "colab_type": "code",
        "colab": {}
      },
      "source": [
        "# Making a new dataframe with the map shape info and the results\n",
        "\n",
        "merged = mapfile_df.set_index('STATE_ABBR').join(newresult.set_index('state_po'))\n"
      ],
      "execution_count": 0,
      "outputs": []
    },
    {
      "cell_type": "code",
      "metadata": {
        "id": "K5fsj0nQA8iF",
        "colab_type": "code",
        "colab": {}
      },
      "source": [
        "# Dropping Alaska and Hawaii for better looking maps\n",
        "\n",
        "merged = merged.drop(['AK', 'HI'])"
      ],
      "execution_count": 0,
      "outputs": []
    },
    {
      "cell_type": "code",
      "metadata": {
        "id": "udjSwcBB6iRs",
        "colab_type": "code",
        "outputId": "dbf1703e-1ede-4692-9edd-4557d5a20eb8",
        "colab": {
          "base_uri": "https://localhost:8080/",
          "height": 418
        }
      },
      "source": [
        "# Electoral map if 18-24s voted at the same rate as 65+ voters\n",
        "\n",
        "fig, ax = plt.subplots(1, figsize=(13,6))\n",
        "plt.style.use('fivethirtyeight')\n",
        "fig.set_facecolor('xkcd:light grey')\n",
        "ax.axis('off')\n",
        "plt.title('2016 Electoral college results \\n if 18-24-year-olds participated at the same rate as those 65 and older')\n",
        "merged.plot(column='changemap',  categorical = True, cmap = cmap ,\n",
        "                legend = True,  ax = ax, linewidth=.5, edgecolor='xkcd:black',\n",
        "                legend_kwds={'loc': 'lower left', 'fontsize': 14,\n",
        "                'shadow':True})\n",
        "plt.savefig('map2.jpg', format='jpg', bbox_inches = 'tight')  \n",
        "files.download('map2.jpg')\n",
        "plt.show()"
      ],
      "execution_count": 161,
      "outputs": [
        {
          "output_type": "display_data",
          "data": {
            "image/png": "[encoded data removed]",
            "text/plain": [
              "<Figure size 936x432 with 1 Axes>"
            ]
          },
          "metadata": {
            "tags": []
          }
        }
      ]
    },
    {
      "cell_type": "code",
      "metadata": {
        "id": "sHka95Wy7Cp2",
        "colab_type": "code",
        "colab": {}
      },
      "source": [
        "# Making a new dataframe with the map shape info and the results\n",
        "\n",
        "merged_all = mapfile_df.set_index('STATE_ABBR').join(newresultallyouth.set_index('state_po'))"
      ],
      "execution_count": 0,
      "outputs": []
    },
    {
      "cell_type": "code",
      "metadata": {
        "id": "2olgqb9FBU8u",
        "colab_type": "code",
        "colab": {}
      },
      "source": [
        "# Dropping Alaska and Hawaii for better looking maps\n",
        "\n",
        "merged_all = merged_all.drop(['AK', 'HI'])"
      ],
      "execution_count": 0,
      "outputs": []
    },
    {
      "cell_type": "code",
      "metadata": {
        "id": "DK-8TWl97IzM",
        "colab_type": "code",
        "outputId": "57ff8ccf-e2dc-42be-b7bc-5be43d54a8ca",
        "colab": {
          "base_uri": "https://localhost:8080/",
          "height": 418
        }
      },
      "source": [
        "# Electoral map if all 18-24 voted\n",
        "\n",
        "fig, ax1 = plt.subplots(1, figsize=(13, 7))\n",
        "ax1.axis('off')\n",
        "plt.title('2016 Electoral college results \\n if all 18-24-year-olds voted')\n",
        "merged_all.plot(column='changemap',categorical = True, cmap = cmap ,\n",
        "                legend = True,  ax = ax1, linewidth=.5, edgecolor='xkcd:black',\n",
        "                legend_kwds={'loc': 'lower left', 'fontsize': 14,\n",
        "                'shadow':True})\n",
        "plt.savefig('map1.jpg', format='jpg', bbox_inches = 'tight')  \n",
        "files.download('map1.jpg')\n",
        "plt.show()"
      ],
      "execution_count": 164,
      "outputs": [
        {
          "output_type": "display_data",
          "data": {
            "image/png": "[encoded data removed]",
            "text/plain": [
              "<Figure size 936x504 with 1 Axes>"
            ]
          },
          "metadata": {
            "tags": []
          }
        }
      ]
    },
    {
      "cell_type": "code",
      "metadata": {
        "id": "RX93F7QcnelW",
        "colab_type": "code",
        "outputId": "1f169874-f1b4-44f3-e414-162f9ee2e5a9",
        "colab": {
          "base_uri": "https://localhost:8080/",
          "height": 303
        }
      },
      "source": [
        "# Plot of the various election scenario results and the actual result\n",
        "\n",
        "fig, ax = plt.subplots(1, figsize=(21, 9))\n",
        "\n",
        "plt.title('Electoral College', ha='right', x =.3)\n",
        "ax.yaxis.label.set_visible(False)\n",
        "ax.set_xticks([269])\n",
        "ax.set_xticklabels(['270'], {'fontweight':'bold'})\n",
        "ax.xaxis.set_tick_params(grid_linewidth=2, grid_color='black')\n",
        "electoral_results.plot.barh(stacked=True, legend = False, color='RB', ax=ax, figsize=(10,4))\n",
        "ax.legend().set_visible(False)\n",
        "ax.text(electoral_results.iloc[0,0]/2 , 0, str('Trump : 199'), va = 'center', ha= 'center', color='xkcd:dried blood', fontweight='bold')\n",
        "ax.text(electoral_results.iloc[1,0]/2 , 1, str('Trump : 261'), va = 'center', ha= 'center', color='xkcd:dried blood', fontweight='bold')\n",
        "ax.text(electoral_results.iloc[2,0]/2 , 2, str('Trump : 306'), va = 'center', ha= 'center', color='xkcd:dried blood', fontweight='bold')\n",
        "ax.text( (electoral_results.iloc[2,0]+( electoral_results.iloc[2,1] /2)),2, str('Clinton : 232'), va = 'center', ha= 'center', color='xkcd:dark blue', fontweight='bold')\n",
        "ax.text( (electoral_results.iloc[1,0]+( electoral_results.iloc[1,1] /2)),1, str('Clinton : 277'), va = 'center', ha= 'center', color='xkcd:dark blue', fontweight='bold')\n",
        "ax.text( (electoral_results.iloc[0,0]+( electoral_results.iloc[0,1] /2)),0, str('Clinton : 339'), va = 'center', ha= 'center', color='xkcd:dark blue', fontweight='bold')\n",
        "\n",
        "plt.savefig('barplot.jpg', format='jpg', bbox_inches = 'tight', dpi = 144)    \n",
        "files.download('barplot.jpg')\n",
        "plt.show()"
      ],
      "execution_count": 165,
      "outputs": [
        {
          "output_type": "display_data",
          "data": {
            "image/png": "[encoded data removed]",
            "text/plain": [
              "<Figure size 720x288 with 1 Axes>"
            ]
          },
          "metadata": {
            "tags": []
          }
        }
      ]
    }
  ]
}