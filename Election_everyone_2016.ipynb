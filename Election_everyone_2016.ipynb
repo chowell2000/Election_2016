{
  "nbformat": 4,
  "nbformat_minor": 0,
  "metadata": {
    "colab": {
      "name": "Election_everyone_2016.ipynb",
      "provenance": [],
      "collapsed_sections": []
    },
    "kernelspec": {
      "name": "python3",
      "display_name": "Python 3"
    }
  },
  "cells": [
    {
      "cell_type": "markdown",
      "metadata": {
        "id": "YagoPrYEKulT",
        "colab_type": "text"
      },
      "source": [
        "# What if everyone voted?\n"
      ]
    },
    {
      "cell_type": "code",
      "metadata": {
        "id": "5tqQWZ3_KsEk",
        "colab_type": "code",
        "colab": {}
      },
      "source": [
        ""
      ],
      "execution_count": 0,
      "outputs": []
    }
  ]
}